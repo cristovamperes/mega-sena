{
  "nbformat": 4,
  "nbformat_minor": 0,
  "metadata": {
    "colab": {
      "provenance": [],
      "authorship_tag": "ABX9TyMnEPIS4RjmjsrGbTDVhduX",
      "include_colab_link": true
    },
    "kernelspec": {
      "name": "python3",
      "display_name": "Python 3"
    },
    "language_info": {
      "name": "python"
    }
  },
  "cells": [
    {
      "cell_type": "markdown",
      "metadata": {
        "id": "view-in-github",
        "colab_type": "text"
      },
      "source": [
        "<a href=\"https://colab.research.google.com/github/cristovamperes/mega-sena/blob/main/An%C3%A1lise_e_Previs%C3%A3o_Mega_Sena.ipynb\" target=\"_parent\"><img src=\"https://colab.research.google.com/assets/colab-badge.svg\" alt=\"Open In Colab\"/></a>"
      ]
    },
    {
      "cell_type": "markdown",
      "source": [
        "# Análise e Previsão de Números da Mega-Sena: Explorando Padrões e Probabilidades"
      ],
      "metadata": {
        "id": "GvO260W-gu-B"
      }
    },
    {
      "cell_type": "markdown",
      "source": [
        "## Introdução\n",
        "\n",
        "A Mega-Sena, a maior e mais popular loteria do Brasil, tem fascinado e estimulado a imaginação de milhões de pessoas. Com prêmios que podem mudar vidas, ela se tornou um tópico de interesse não apenas para aqueles que sonham em ganhar, mas também para entusiastas de estatísticas e análise de dados. Neste notebook, mergulharemos no mundo dos números da Mega-Sena, buscando padrões e tendências que possam nos ajudar a entender melhor este jogo intrigante."
      ],
      "metadata": {
        "id": "xWTfsL2Lg4TK"
      }
    },
    {
      "cell_type": "markdown",
      "source": [
        "##Objetivo do Projeto\n",
        "O objetivo deste projeto é analisar os resultados históricos da Mega-Sena e explorar se existem padrões ou tendências nos números sorteados ao longo dos anos. Utilizaremos técnicas de análise de dados e programação para extrair insights desses resultados. A partir disso, tentaremos desenvolver um método para sugerir combinações de números que podem ser consideradas para apostas futuras. É importante destacar que, apesar de nosso foco em padrões e probabilidades, a Mega-Sena é um jogo de sorte, e não há garantias de sucesso."
      ],
      "metadata": {
        "id": "-SCYDmTohA4o"
      }
    },
    {
      "cell_type": "markdown",
      "source": [
        "#Metodologia\n",
        "Para realizar nossa análise, utilizaremos dados históricos dos sorteios da Mega-Sena. Esses dados incluem as datas dos sorteios e os números sorteados. Através de técnicas de programação em Python e o uso de bibliotecas como requests para aquisição de dados e pandas para manipulação e análise, processaremos e analisaremos essas informações."
      ],
      "metadata": {
        "id": "X9bhcWEEhJJi"
      }
    },
    {
      "cell_type": "markdown",
      "source": [
        "##Estrutura do Notebook\n",
        "Este notebook está organizado da seguinte forma:\n",
        "\n",
        "*   **Coleta de Dados:** Mostraremos como acessar e baixar os resultados históricos da Mega-Sena\n",
        "\n",
        "*   **Análise Exploratória dos Dados:** Analisaremos os dados coletados para identificar quaisquer padrões ou tendências nos números sorteados.\n",
        "\n",
        "*   **Desenvolvimento do Modelo de Previsão:** Com base na nossa análise, desenvolveremos um modelo para prever números que poderiam ser sorteados em futuros jogos.\n",
        "\n",
        "*   Conclusão: Discutiremos os insights obtidos, as limitações do nosso estudo e as considerações finais sobre o uso de análise de dados em jogos de loteria.\n",
        "\n",
        "Vamos começar!"
      ],
      "metadata": {
        "id": "hGKN1apBhTO4"
      }
    },
    {
      "cell_type": "markdown",
      "source": [
        "# Célula 1: Coleta de Dados dos Resultados da Mega-Sena"
      ],
      "metadata": {
        "id": "rz6qbWCNiID9"
      }
    },
    {
      "cell_type": "markdown",
      "source": [
        "## Explicação do Código\n",
        "\n",
        "1.   **Importando as Bibliotecas:** Utilizamos requests para fazer a requisição dos dados e pandas para manipular os dados em formato de DataFrame.\n",
        "\n",
        "2.   **Requisição de Dados:** A função requests.post é usada para enviar uma requisição POST para o site com os resultados da Mega-Sena. Os parâmetros enviados na requisição especificam o formato e o tipo de dados que queremos.\n",
        "\n",
        "3.   **Salvando e Lendo o Arquivo Excel:** O conteúdo recebido é salvo em um arquivo Excel local. Em seguida, utilizamos pandas para ler este arquivo, especificando as linhas e colunas que devem ser ignoradas para estruturar corretamente os dados.\n",
        "\n",
        "4.   **Preparação dos Dados:** Por fim, invertemos a ordem dos dados para que os sorteios mais antigos sejam listados primeiro, facilitando análises temporais subsequentes.\n",
        "\n",
        "Com esses dados em mãos, estamos prontos para avançar para a próxima etapa de análise exploratória e modelagem preditiva."
      ],
      "metadata": {
        "id": "CSybgbgTiOc8"
      }
    },
    {
      "cell_type": "code",
      "source": [
        "import requests\n",
        "import pandas as pd\n",
        "\n",
        "# URL do site que contém os resultados da Mega-Sena em formato Excel\n",
        "url = 'https://asloterias.com.br/download_excel.php'\n",
        "\n",
        "# Parâmetros para a requisição POST\n",
        "data = {\"l\": \"ms\", \"t\": \"t\", \"o\": \"s\", \"f1\": \"\", \"f2\": \"\"}\n",
        "\n",
        "# Realizando a requisição e recebendo o arquivo\n",
        "req_file = requests.post(url, data)\n",
        "\n",
        "# Nome do arquivo onde os dados serão salvos\n",
        "file_name = \"todos_resultados_megasena.xlsx\"\n",
        "\n",
        "# Salvando o conteúdo recebido em um arquivo Excel\n",
        "with open(file_name, 'wb') as f:\n",
        "    f.write(req_file.content)\n",
        "\n",
        "# Lendo os dados do arquivo Excel com Pandas\n",
        "df = pd.read_excel(io=file_name, sheet_name='mega_sena_www.asloterias.com.br', skiprows=[0,1,2,4,5], header=[1], engine='openpyxl')\n",
        "\n",
        "# Invertendo a ordem dos dados para que os sorteios mais antigos apareçam primeiro\n",
        "df = df.iloc[::-1]"
      ],
      "metadata": {
        "id": "Yw-dr6XQiIcg"
      },
      "execution_count": 1,
      "outputs": []
    },
    {
      "cell_type": "markdown",
      "source": [
        "# Célula 2: Desenvolvimento da Função de Previsão"
      ],
      "metadata": {
        "id": "WtiCIyaNi_5N"
      }
    },
    {
      "cell_type": "markdown",
      "source": [
        "Nesta seção, vamos criar uma função chamada *predict_next_numbers* que analisa os resultados históricos e sugere números para futuros sorteios da Mega-Sena. Esta função utiliza a análise de frequência dos números sorteados e seleciona números com base em sua ocorrência nos últimos sorteios."
      ],
      "metadata": {
        "id": "YBFlA7RJjIYU"
      }
    },
    {
      "cell_type": "markdown",
      "source": [
        "## Explicação do Código\n",
        "\n",
        "\n",
        "1.   **Definição da Função:** predict_next_numbers recebe um DataFrame df contendo os resultados da Mega-Sena e um número sorteios que indica quantos sorteios recentes considerar na análise.\n",
        "\n",
        "2.   **Análise de Frequência:** Para cada coluna que representa uma bola sorteada, contamos a frequência de cada número nos últimos sorteios usando a classe Counter.\n",
        "\n",
        "3.   **Agrupamento por Frequência:** Os números são agrupados com base na sua frequência de ocorrência. Em seguida, esses grupos são ordenados.\n",
        "\n",
        "4.   **Seleção dos Números:** A função então escolhe números aleatoriamente, começando pelo grupo de menor frequência e evitando números já selecionados. Esse processo ajuda a diversificar os números escolhidos.\n",
        "\n",
        "5.   Retorno dos Números Previstos: A função retorna os números previstos em ordem crescente.\n",
        "\n",
        "\n",
        "Com essa função, estamos preparados para gerar sugestões de números para futuros jogos. A lógica busca equilibrar a seleção de números com base em sua frequência histórica, considerando que os números com menos ocorrências, tem maior probabilidade de serem sorteados, assim como os resultados de milhares de lançamentos de uma moeda terminará com 50% para cada lado."
      ],
      "metadata": {
        "id": "m_8XU1twjbiT"
      }
    },
    {
      "cell_type": "code",
      "source": [
        "import pandas as pd\n",
        "import random\n",
        "from collections import Counter\n",
        "\n",
        "def predict_next_numbers(df, sorteios):\n",
        "    total_sorteios = sorteios\n",
        "    predicted_numbers = set()  # Conjunto para armazenar os números previstos\n",
        "\n",
        "    for i, bola in enumerate(df.filter(regex='bola').columns):\n",
        "        numeros_sorteados = df[bola].head(total_sorteios).squeeze()\n",
        "\n",
        "        # Contagem das ocorrências de cada número\n",
        "        counter = Counter(numeros_sorteados)\n",
        "\n",
        "        # Agrupamento dos números por sua frequência\n",
        "        freq_groups = {}\n",
        "        for num, freq in counter.items():\n",
        "            if freq not in freq_groups:\n",
        "                freq_groups[freq] = []\n",
        "            freq_groups[freq].append(num)\n",
        "\n",
        "        # Ordenação dos grupos de frequência\n",
        "        sorted_freqs = sorted(freq_groups.keys())\n",
        "\n",
        "        # Seleção do próximo número, iniciando pelo grupo de menor frequência\n",
        "        next_number = None\n",
        "        for freq in sorted_freqs:\n",
        "            potential_numbers = [num for num in freq_groups[freq] if num not in predicted_numbers]\n",
        "            if potential_numbers:\n",
        "                next_number = random.choice(potential_numbers)\n",
        "                break\n",
        "\n",
        "        if next_number is None:\n",
        "            print(\"Cenário inesperado: não foi possível encontrar um número único.\")\n",
        "            continue\n",
        "\n",
        "        predicted_numbers.add(next_number)\n",
        "\n",
        "    return sorted(predicted_numbers)\n"
      ],
      "metadata": {
        "id": "8uSMoSBmiLJc"
      },
      "execution_count": 2,
      "outputs": []
    },
    {
      "cell_type": "markdown",
      "source": [
        "#Célula 3: Geração de Sugestões de Jogos"
      ],
      "metadata": {
        "id": "LqKy0h3BludU"
      }
    },
    {
      "cell_type": "markdown",
      "source": [
        "Nesta parte final da nossa análise, utilizaremos a função *predict_next_numbers *para gerar sugestões de jogos da Mega-Sena. O usuário poderá especificar quantas sugestões de jogos deseja gerar. Cada sugestão será uma combinação única de números baseada nos resultados dos sorteios anteriores."
      ],
      "metadata": {
        "id": "CtUJeCqPmBfM"
      }
    },
    {
      "cell_type": "markdown",
      "source": [
        "#Explicação do Código\n",
        "\n",
        "1.   **Definindo o Número de Sugestões:** O código começa perguntando ao usuário quantas sugestões de jogos ele deseja gerar. Isso é feito usando a função input.\n",
        "\n",
        "2.   **Geração de Sugestões:** Utilizamos um loop while para gerar o número desejado de sugestões. Em cada iteração, chamamos a função *predict_next_numbers*, passando o DataFrame com os resultados da Mega-Sena e o número de sorteios a considerar.\n",
        "\n",
        "3.   **Evitando Repetições:** Verificamos se a sugestão gerada já existe na lista de jogos. Se não, ela é adicionada à lista. Isso garante que todas as sugestões sejam únicas.\n",
        "\n",
        "4.   **Exibindo as Sugestões:** Após a geração das sugestões, cada jogo sugerido é exibido na tela. Isso é feito em um loop for, que percorre a lista de jogos sugeridos e os imprime formatadamente.\n",
        "\n",
        "Com este código, oferecemos ao usuário uma maneira interativa e interessante de explorar possíveis combinações de números para jogar na Mega-Sena, com base em uma análise estatística dos resultados anteriores."
      ],
      "metadata": {
        "id": "Ams-cPZImIn8"
      }
    },
    {
      "cell_type": "code",
      "source": [
        "suggestions_to_generate = int(input(\"Quantas sugestões quer gerar? \"))\n",
        "ultimo = 0\n",
        "jogos = []\n",
        "\n",
        "while len(jogos) < suggestions_to_generate:\n",
        "    sorteios = (len(df) - ultimo)\n",
        "    sugestao_jogo = predict_next_numbers(df, sorteios)\n",
        "\n",
        "    if sugestao_jogo not in jogos:\n",
        "        jogos.append(sugestao_jogo)\n",
        "        print(f\"{len(jogos)} jogo(s) sugerido(s)\")\n",
        "    ultimo += 1\n",
        "\n",
        "print(\"Sugestões finalizadas\\n\")\n",
        "\n",
        "for x in range(len(jogos)):\n",
        "    print(f\"Jogo {x+1}: {jogos[x]}\")\n"
      ],
      "metadata": {
        "colab": {
          "base_uri": "https://localhost:8080/"
        },
        "id": "2DnP6-jglxto",
        "outputId": "2df3f102-4a7d-4dd6-bb0e-5670fc6b2401"
      },
      "execution_count": 4,
      "outputs": [
        {
          "output_type": "stream",
          "name": "stdout",
          "text": [
            "Quantas sugestões quer gerar? 10\n",
            "1 jogo(s) sugerido(s)\n",
            "2 jogo(s) sugerido(s)\n",
            "3 jogo(s) sugerido(s)\n",
            "4 jogo(s) sugerido(s)\n",
            "5 jogo(s) sugerido(s)\n",
            "6 jogo(s) sugerido(s)\n",
            "7 jogo(s) sugerido(s)\n",
            "8 jogo(s) sugerido(s)\n",
            "9 jogo(s) sugerido(s)\n",
            "10 jogo(s) sugerido(s)\n",
            "Sugestões finalizadas\n",
            "\n",
            "Jogo 1: [3, 15, 21, 26, 55, 60]\n",
            "Jogo 2: [3, 21, 26, 40, 55, 60]\n",
            "Jogo 3: [3, 18, 21, 26, 55, 60]\n",
            "Jogo 4: [3, 15, 21, 22, 55, 60]\n",
            "Jogo 5: [3, 21, 22, 40, 55, 60]\n",
            "Jogo 6: [3, 18, 21, 22, 55, 60]\n",
            "Jogo 7: [3, 21, 22, 48, 55, 60]\n",
            "Jogo 8: [3, 21, 26, 48, 55, 60]\n",
            "Jogo 9: [3, 18, 21, 26, 38, 55]\n",
            "Jogo 10: [3, 15, 21, 22, 38, 55]\n"
          ]
        }
      ]
    },
    {
      "cell_type": "markdown",
      "source": [
        "#Conclusão e Reflexões Finais"
      ],
      "metadata": {
        "id": "9riyNf04mx68"
      }
    },
    {
      "cell_type": "markdown",
      "source": [
        "##Resumo dos Insights\n",
        "Neste notebook, exploramos um método interessante de análise dos resultados históricos da Mega-Sena, com o objetivo de identificar padrões e sugerir possíveis números para futuros sorteios. Utilizamos a programação em Python para coletar dados, analisar a frequência dos números sorteados e, com base nessa análise, sugerir combinações de números."
      ],
      "metadata": {
        "id": "1PhL9yvVm1qq"
      }
    },
    {
      "cell_type": "markdown",
      "source": [
        "##Limitações do Estudo\n",
        "É importante reconhecer as limitações do nosso estudo:\n",
        "\n",
        "\n",
        "*   **Aleatoriedade dos Sorteios:** Os sorteios da Mega-Sena são eventos aleatórios. Portanto, qualquer padrão identificado nos dados históricos não garante resultados futuros.\n",
        "\n",
        "*  **Tamanho da Amostra:** Embora tenhamos uma quantidade significativa de dados históricos, a natureza aleatória dos sorteios significa que grandes variações são possíveis e comuns.\n",
        "\n",
        "*   **Simplificação do Modelo:** O modelo que desenvolvemos é baseado em frequência de números e não leva em conta outras técnicas estatísticas ou probabilísticas mais complexas que poderiam refinar as previsões."
      ],
      "metadata": {
        "id": "_3CdsRSGm-37"
      }
    },
    {
      "cell_type": "markdown",
      "source": [
        "##Reflexões Finais\n",
        "Este projeto demonstra o poder da análise de dados e programação para explorar e entender melhor jogos de loteria como a Mega-Sena. Enquanto a previsão de resultados futuros em jogos de sorte é inerentemente incerta, a análise de dados pode oferecer insights interessantes e uma nova perspectiva sobre os padrões dos números sorteados."
      ],
      "metadata": {
        "id": "mVXdCVk5nSQc"
      }
    },
    {
      "cell_type": "markdown",
      "source": [
        "#Encorajamento para Exploração Futura\n",
        "Além do método explorado neste notebook, eu já experimentei com diversas outras técnicas de análise de dados e modelagem estatística para prever os números da Mega-Sena, incluindo:\n",
        "\n",
        "*   **Modelo ARIMA:** ARIMA, que significa \"AutoRegressive Integrated Moving Average\", é um modelo estatístico usado para prever séries temporais. Ele combina técnicas autoregressivas, diferenciação para tornar a série temporal estacionária, e médias móveis para capturar a dependência temporal nos dados.\n",
        "\n",
        "*   **Regressão Linear:** Uma técnica de modelagem estatística que tenta prever o valor de uma variável dependente com base nas relações lineares entre essa variável e uma ou mais variáveis independentes. É uma das formas mais básicas e amplamente utilizadas de análise preditiva.\n",
        "\n",
        "*   **Modelo LSTM (Long Short-Term Memory):** Um tipo de rede neural recorrente (RNN) que é particularmente eficaz em aprender dependências de longo prazo em dados sequenciais. LSTMs são frequentemente usadas em problemas de séries temporais, como previsão do mercado de ações ou análise de tendências.\n",
        "\n",
        "Além dessas técnicas, outra abordagem interessante é pedir para ferramentas de IA como o ChatGPT analisar os resultados e sugerir números com base nos dados disponíveis. Embora essa abordagem possa não se basear em modelos estatísticos tradicionais, ela oferece uma perspectiva única e criativa sobre a previsão de resultados.\n",
        "\n",
        "Encorajo você a explorar essas e outras técnicas em seus próprios projetos. Cada método tem suas vantagens e peculiaridades, e a experimentação com diferentes abordagens pode levar a insights valiosos e novas maneiras de pensar sobre os dados. Lembre-se, a análise de dados é um campo vasto e em constante evolução, e sempre há algo novo para aprender e experimentar!"
      ],
      "metadata": {
        "id": "-aN3g8vwn6pr"
      }
    },
    {
      "cell_type": "code",
      "source": [],
      "metadata": {
        "id": "h2p7gf_woBt1"
      },
      "execution_count": null,
      "outputs": []
    }
  ]
}